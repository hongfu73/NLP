{
 "cells": [
  {
   "cell_type": "code",
   "execution_count": 1,
   "metadata": {},
   "outputs": [],
   "source": [
    "from collections import defaultdict\n",
    "import os"
   ]
  },
  {
   "cell_type": "code",
   "execution_count": 2,
   "metadata": {},
   "outputs": [],
   "source": [
    "BASE_DIR = '.'"
   ]
  },
  {
   "cell_type": "code",
   "execution_count": 5,
   "metadata": {},
   "outputs": [],
   "source": [
    "def save_word_dict(vocab, save_path):\n",
    "    with open(save_path, 'w', encoding='utf-8') as f:\n",
    "        for line in vocab:\n",
    "            w, i = line\n",
    "            f.write(\"%s\\t%d\\n\" % (w, i))\n",
    "\n",
    "\n",
    "def read_data(path_1, path_2, path_3):\n",
    "    with open(path_1, 'r', encoding='utf-8') as f1, \\\n",
    "            open(path_2, 'r', encoding='utf-8') as f2, \\\n",
    "            open(path_3, 'r', encoding='utf-8') as f3:\n",
    "        words = []\n",
    "        # print(f1)\n",
    "        for line in f1:\n",
    "            words = line.split()\n",
    "\n",
    "        for line in f2:\n",
    "            words += line.split(' ')\n",
    "\n",
    "        for line in f3:\n",
    "            words += line.split(' ')\n",
    "\n",
    "    return words\n",
    "\n",
    "\n",
    "def build_vocab(items, sort=True, min_count=0, lower=False):\n",
    "    \"\"\"\n",
    "    构建词典列表\n",
    "    :param items: list  [item1, item2, ... ]\n",
    "    :param sort: 是否按频率排序，否则按items排序\n",
    "    :param min_count: 词典最小频次\n",
    "    :param lower: 是否小写\n",
    "    :return: list: word set\n",
    "    \"\"\"\n",
    "    result = []\n",
    "    if sort:\n",
    "        # sort by count\n",
    "        dic = defaultdict(int)\n",
    "        for item in items:\n",
    "            for i in item.split(\" \"):\n",
    "                i = i.strip()\n",
    "                if not i: continue\n",
    "                i = i if not lower else item.lower()\n",
    "                dic[i] += 1\n",
    "        # sort\n",
    "        \"\"\"\n",
    "        按照字典里的词频进行排序，出现次数多的排在前面\n",
    "        your code(one line)\n",
    "        \"\"\"\n",
    "        dic = sorted(dic.items(), key=lambda item:item[1], reverse=True)\n",
    "        for i, item in enumerate(dic):\n",
    "            key = item[0]\n",
    "            if min_count and min_count > item[1]:\n",
    "                continue\n",
    "            result.append(key)\n",
    "    else:\n",
    "        # sort by items\n",
    "        for i, item in enumerate(items):\n",
    "            item = item if not lower else item.lower()\n",
    "            result.append(item)\n",
    "    \"\"\"\n",
    "    建立项目的vocab和reverse_vocab，vocab的结构是（词，index）\n",
    "    your code\n",
    "    vocab = (one line)\n",
    "    reverse_vocab = (one line)\n",
    "    \"\"\"\n",
    "    vocab = [(words, i) for i,words in enumerate(result)]\n",
    "    reverse_vocab = [(words, len(result) - i) for i,words in enumerate(result)]\n",
    "    return vocab, reverse_vocab"
   ]
  },
  {
   "cell_type": "code",
   "execution_count": 6,
   "metadata": {},
   "outputs": [],
   "source": [
    "lines = read_data('{}/datasets/train_set.seg_x.txt'.format(BASE_DIR),\n",
    "                      '{}/datasets/train_set.seg_y.txt'.format(BASE_DIR),\n",
    "                      '{}/datasets/test_set.seg_x.txt'.format(BASE_DIR))\n",
    "vocab, reverse_vocab = build_vocab(lines)\n",
    "save_word_dict(vocab, '{}/datasets/vocab.txt'.format(BASE_DIR))"
   ]
  },
  {
   "cell_type": "code",
   "execution_count": null,
   "metadata": {},
   "outputs": [],
   "source": []
  },
  {
   "cell_type": "code",
   "execution_count": null,
   "metadata": {},
   "outputs": [],
   "source": []
  },
  {
   "cell_type": "code",
   "execution_count": null,
   "metadata": {},
   "outputs": [],
   "source": []
  },
  {
   "cell_type": "code",
   "execution_count": null,
   "metadata": {},
   "outputs": [],
   "source": []
  }
 ],
 "metadata": {
  "kernelspec": {
   "display_name": "Python 3",
   "language": "python",
   "name": "python3"
  },
  "language_info": {
   "codemirror_mode": {
    "name": "ipython",
    "version": 3
   },
   "file_extension": ".py",
   "mimetype": "text/x-python",
   "name": "python",
   "nbconvert_exporter": "python",
   "pygments_lexer": "ipython3",
   "version": "3.7.6"
  }
 },
 "nbformat": 4,
 "nbformat_minor": 4
}
