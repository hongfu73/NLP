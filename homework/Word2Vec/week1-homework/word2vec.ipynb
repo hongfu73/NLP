{
 "cells": [
  {
   "cell_type": "code",
   "execution_count": 1,
   "metadata": {},
   "outputs": [],
   "source": [
    "from utils.build_w2v import build\n",
    "from utils.preprocess import parse_data\n",
    "from utils.data_reader import read_data,build_vocab,save_word_dict"
   ]
  },
  {
   "cell_type": "code",
   "execution_count": 2,
   "metadata": {},
   "outputs": [],
   "source": [
    "BASE_DIR = '.'"
   ]
  },
  {
   "cell_type": "code",
   "execution_count": null,
   "metadata": {},
   "outputs": [],
   "source": []
  },
  {
   "cell_type": "code",
   "execution_count": 3,
   "metadata": {},
   "outputs": [],
   "source": [
    "cmd = 'w2v'"
   ]
  },
  {
   "cell_type": "code",
   "execution_count": 4,
   "metadata": {},
   "outputs": [
    {
     "name": "stdout",
     "output_type": "stream",
     "text": [
      "save sentence:./datasets/sentences.txt\n",
      "train w2v model...\n",
      "save w2v.bin ok.\n",
      "save ./datasets/word2vec.txt ok.\n",
      "w2v end ...\n"
     ]
    }
   ],
   "source": [
    "if cmd == 'w2v':\n",
    "    build('{}/datasets/train_set.seg_x.txt'.format(BASE_DIR),\n",
    "          '{}/datasets/train_set.seg_y.txt'.format(BASE_DIR),\n",
    "          '{}/datasets/test_set.seg_x.txt'.format(BASE_DIR),\n",
    "          out_path='{}/datasets/word2vec.txt'.format(BASE_DIR),\n",
    "          sentence_path='{}/datasets/sentences.txt'.format(BASE_DIR))\n",
    "    print(\"w2v end ...\")\n",
    "    \n",
    "elif cmd == 'w2id':\n",
    "    lines = read_data('{}/datasets/train_set.seg_x.txt'.format(BASE_DIR),\n",
    "                      '{}/datasets/train_set.seg_y.txt'.format(BASE_DIR),\n",
    "                      '{}/datasets/test_set.seg_x.txt'.format(BASE_DIR))\n",
    "    vocab, reverse_vocab = build_vocab(lines)\n",
    "    save_word_dict(vocab, '{}/datasets/vocab.txt'.format(BASE_DIR))\n",
    "    print('w2id end ...')\n",
    "    \n",
    "elif cmd == 'preprocess':\n",
    "    parse_data('{}/datasets/AutoMaster_TrainSet.csv'.format(BASE_DIR),\n",
    "               '{}/datasets/AutoMaster_TestSet.csv'.format(BASE_DIR))\n",
    "    print('preprocess end...')\n",
    "    \n",
    "else:\n",
    "    print('hello world!...')\n",
    "    \n",
    "    "
   ]
  },
  {
   "cell_type": "code",
   "execution_count": null,
   "metadata": {},
   "outputs": [],
   "source": []
  }
 ],
 "metadata": {
  "kernelspec": {
   "display_name": "Python 3",
   "language": "python",
   "name": "python3"
  },
  "language_info": {
   "codemirror_mode": {
    "name": "ipython",
    "version": 3
   },
   "file_extension": ".py",
   "mimetype": "text/x-python",
   "name": "python",
   "nbconvert_exporter": "python",
   "pygments_lexer": "ipython3",
   "version": "3.7.6"
  }
 },
 "nbformat": 4,
 "nbformat_minor": 4
}
