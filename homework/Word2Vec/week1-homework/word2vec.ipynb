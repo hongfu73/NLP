{
 "cells": [
  {
   "cell_type": "code",
   "execution_count": null,
   "metadata": {},
   "outputs": [],
   "source": [
    "import utils.build_w2v\n",
    "import utils.preprocess\n",
    "import utils.data_reader"
   ]
  },
  {
   "cell_type": "code",
   "execution_count": null,
   "metadata": {},
   "outputs": [],
   "source": [
    "BASE_DIR = '.'"
   ]
  },
  {
   "cell_type": "code",
   "execution_count": null,
   "metadata": {},
   "outputs": [],
   "source": []
  },
  {
   "cell_type": "code",
   "execution_count": null,
   "metadata": {},
   "outputs": [],
   "source": [
    "cmd = 'w2v'"
   ]
  },
  {
   "cell_type": "code",
   "execution_count": null,
   "metadata": {},
   "outputs": [],
   "source": [
    "if cmd == 'w2v':\n",
    "    build('{}/datasets/train_set.seg_x.txt'.format(BASE_DIR),\n",
    "          '{}/datasets/train_set.seg_y.txt'.format(BASE_DIR),\n",
    "          '{}/datasets/test_set.seg_x.txt'.format(BASE_DIR),\n",
    "          out_path='{}/datasets/word2vec.txt'.format(BASE_DIR),\n",
    "          sentence_path='{}/datasets/sentences.txt'.format(BASE_DIR))\n",
    "    print(\"end w2v\")\n",
    "    \n",
    "elif cmd == 'w2id':\n",
    "    lines = read_data('{}/datasets/train_set.seg_x.txt'.format(BASE_DIR),\n",
    "                      '{}/datasets/train_set.seg_y.txt'.format(BASE_DIR),\n",
    "                      '{}/datasets/test_set.seg_x.txt'.format(BASE_DIR))\n",
    "    vocab, reverse_vocab = build_vocab(lines)\n",
    "    save_word_dict(vocab, '{}/datasets/vocab.txt'.format(BASE_DIR))\n",
    "    print('w2id')\n",
    "    \n",
    "elif cmd == 'process':\n",
    "    parse_data('{}/datasets/AutoMaster_TrainSet.csv'.format(BASE_DIR),\n",
    "               '{}/datasets/AutoMaster_TestSet.csv'.format(BASE_DIR))\n",
    "    print('process')\n",
    "else:\n",
    "    print('hello world!...')\n",
    "    \n",
    "    "
   ]
  },
  {
   "cell_type": "code",
   "execution_count": null,
   "metadata": {},
   "outputs": [],
   "source": []
  }
 ],
 "metadata": {
  "kernelspec": {
   "display_name": "Python 3",
   "language": "python",
   "name": "python3"
  },
  "language_info": {
   "codemirror_mode": {
    "name": "ipython",
    "version": 3
   },
   "file_extension": ".py",
   "mimetype": "text/x-python",
   "name": "python",
   "nbconvert_exporter": "python",
   "pygments_lexer": "ipython3",
   "version": "3.7.6"
  }
 },
 "nbformat": 4,
 "nbformat_minor": 4
}
