{
 "cells": [
  {
   "cell_type": "code",
   "execution_count": 1,
   "metadata": {},
   "outputs": [],
   "source": [
    "import numpy as np\n",
    "import pandas as pd\n",
    "import re\n",
    "from jieba import posseg\n",
    "import jieba\n",
    "import os"
   ]
  },
  {
   "cell_type": "code",
   "execution_count": 2,
   "metadata": {},
   "outputs": [],
   "source": [
    "BASE_DIR = '.'"
   ]
  },
  {
   "cell_type": "code",
   "execution_count": 3,
   "metadata": {},
   "outputs": [],
   "source": [
    "REMOVE_WORDS = ['|', '[', ']', '语音', '图片', ' ']\n",
    "\n",
    "\n",
    "def segment(sentence, cut_type='word', pos=False):\n",
    "    \"\"\"\n",
    "    切词\n",
    "    :param sentence:\n",
    "    :param cut_type: 'word' use jieba.lcut; 'char' use list(sentence)\n",
    "    :param pos: enable POS\n",
    "    :return: list\n",
    "    \"\"\"\n",
    "    if pos:\n",
    "        if cut_type == 'word':\n",
    "            word_pos_seq = posseg.lcut(sentence)\n",
    "            word_seq, pos_seq = [], []\n",
    "            for w, p in word_pos_seq:\n",
    "                word_seq.append(w)\n",
    "                pos_seq.append(p)\n",
    "            return word_seq, pos_seq\n",
    "        elif cut_type == 'char':\n",
    "            word_seq = list(sentence)\n",
    "            pos_seq = []\n",
    "            for w in word_seq:\n",
    "                w_p = posseg.lcut(w)\n",
    "                pos_seq.append(w_p[0].flag)\n",
    "            return word_seq, pos_seq\n",
    "    else:\n",
    "        if cut_type == 'word':\n",
    "            return jieba.lcut(sentence)\n",
    "        elif cut_type == 'char':\n",
    "            return list(sentence)\n",
    "\n",
    "        \n",
    "def read_stopwords(path):\n",
    "    lines = set()\n",
    "    with open(path, mode='r', encoding='utf-8') as f:\n",
    "        for line in f:\n",
    "            line = line.strip()\n",
    "            lines.add(line)\n",
    "    return lines\n",
    "\n",
    "\n",
    "def remove_words(words_list):\n",
    "    words_list = [word for word in words_list if word not in REMOVE_WORDS]\n",
    "    return words_list\n",
    "\n",
    "\n",
    "def parse_data(train_path, test_path):\n",
    "    train_df = pd.read_csv(train_path, encoding='utf-8')\n",
    "    train_df.dropna(subset=['Report'], how='any', inplace=True)\n",
    "    train_df.fillna('', inplace=True)\n",
    "    train_x = train_df.Question.str.cat(train_df.Dialogue)\n",
    "    print('train_x is ', len(train_x))\n",
    "    train_x = train_x.apply(preprocess_sentence)\n",
    "    print('train_x is ', len(train_x))\n",
    "    train_y = train_df.Report\n",
    "    print('train_y is ', len(train_y))\n",
    "    train_y = train_y.apply(preprocess_sentence)\n",
    "    print('train_y is ', len(train_y))\n",
    "    # if 'Report' in train_df.columns:\n",
    "        # train_y = train_df.Report\n",
    "        # print('train_y is ', len(train_y))\n",
    "\n",
    "    test_df = pd.read_csv(test_path, encoding='utf-8')\n",
    "    test_df.fillna('', inplace=True)\n",
    "    test_x = test_df.Question.str.cat(test_df.Dialogue)\n",
    "    test_x = test_x.apply(preprocess_sentence)\n",
    "    print('test_x is ', len(test_x))\n",
    "    test_y = []\n",
    "    train_x.to_csv('{}/datasets/train_set.seg_x.txt'.format(BASE_DIR), index=None, header=False)\n",
    "    train_y.to_csv('{}/datasets/train_set.seg_y.txt'.format(BASE_DIR), index=None, header=False)\n",
    "    test_x.to_csv('{}/datasets/test_set.seg_x.txt'.format(BASE_DIR), index=None, header=False)\n",
    "\n",
    "\n",
    "def preprocess_sentence(sentence):\n",
    "    seg_list = segment(sentence.strip(), cut_type='word')\n",
    "    seg_list = remove_words(seg_list)\n",
    "    seg_line = ' '.join(seg_list)\n",
    "    return seg_line"
   ]
  },
  {
   "cell_type": "code",
   "execution_count": 4,
   "metadata": {},
   "outputs": [
    {
     "name": "stderr",
     "output_type": "stream",
     "text": [
      "Building prefix dict from the default dictionary ...\n"
     ]
    },
    {
     "name": "stdout",
     "output_type": "stream",
     "text": [
      "train_x is  82873\n"
     ]
    },
    {
     "name": "stderr",
     "output_type": "stream",
     "text": [
      "Dumping model to file cache /var/folders/91/t21j7z9d1rs22qmhz0l_qdjh0000gn/T/jieba.cache\n",
      "Loading model cost 1.485 seconds.\n",
      "Prefix dict has been built successfully.\n"
     ]
    },
    {
     "name": "stdout",
     "output_type": "stream",
     "text": [
      "train_x is  82873\n",
      "train_y is  82873\n",
      "train_y is  82873\n",
      "test_x is  20000\n"
     ]
    }
   ],
   "source": [
    "parse_data('{}/datasets/AutoMaster_TrainSet.csv'.format(BASE_DIR),\n",
    "               '{}/datasets/AutoMaster_TestSet.csv'.format(BASE_DIR))"
   ]
  },
  {
   "cell_type": "code",
   "execution_count": null,
   "metadata": {},
   "outputs": [],
   "source": []
  },
  {
   "cell_type": "code",
   "execution_count": null,
   "metadata": {},
   "outputs": [],
   "source": []
  },
  {
   "cell_type": "code",
   "execution_count": null,
   "metadata": {},
   "outputs": [],
   "source": []
  }
 ],
 "metadata": {
  "kernelspec": {
   "display_name": "Python 3",
   "language": "python",
   "name": "python3"
  },
  "language_info": {
   "codemirror_mode": {
    "name": "ipython",
    "version": 3
   },
   "file_extension": ".py",
   "mimetype": "text/x-python",
   "name": "python",
   "nbconvert_exporter": "python",
   "pygments_lexer": "ipython3",
   "version": "3.7.6"
  }
 },
 "nbformat": 4,
 "nbformat_minor": 4
}
