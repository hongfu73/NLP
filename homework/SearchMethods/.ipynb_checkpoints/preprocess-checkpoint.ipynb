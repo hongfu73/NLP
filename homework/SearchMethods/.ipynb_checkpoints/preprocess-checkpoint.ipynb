{
 "cells": [
  {
   "cell_type": "code",
   "execution_count": 67,
   "metadata": {},
   "outputs": [],
   "source": [
    "from bs4 import BeautifulSoup\n",
    "import requests"
   ]
  },
  {
   "cell_type": "code",
   "execution_count": 68,
   "metadata": {},
   "outputs": [],
   "source": [
    "def get_urls():\n",
    "    prefix_url = 'http://bj.bendibao.com/traffic/20141217/'\n",
    "    ret = []\n",
    "    for i in range(174547,174566): #174566\n",
    "        if i==174563:\n",
    "            continue\n",
    "        ret += [prefix_url + str(i) +\".shtml\"]\n",
    "    return ret"
   ]
  },
  {
   "cell_type": "code",
   "execution_count": 78,
   "metadata": {},
   "outputs": [],
   "source": [
    "def get_station(url):\n",
    "    ret = []\n",
    "    response = requests.get(url);\n",
    "    response.encoding = 'utf-8'\n",
    "    html = response.text\n",
    "    \n",
    "    soup = BeautifulSoup(html,'html.parser',from_encoding='utf-8')\n",
    "    for item in soup.body.tbody.children:\n",
    "        tem = item.th.text.split('——')\n",
    "        ret += [(tem[0],tem[1], int(item.td.text))]\n",
    "    return ret"
   ]
  },
  {
   "cell_type": "code",
   "execution_count": null,
   "metadata": {},
   "outputs": [],
   "source": []
  },
  {
   "cell_type": "code",
   "execution_count": 79,
   "metadata": {},
   "outputs": [],
   "source": [
    "def get_datas():\n",
    "    ret = []\n",
    "    urls = get_urls()\n",
    "    for url in urls:\n",
    "        ret += get_station(url)\n",
    "    return ret"
   ]
  },
  {
   "cell_type": "code",
   "execution_count": 88,
   "metadata": {},
   "outputs": [],
   "source": [
    "import networkx as nx\n",
    "import matplotlib.pyplot as plt\n",
    "from collections import defaultdict\n",
    "#%matplotlib inline"
   ]
  },
  {
   "cell_type": "code",
   "execution_count": 89,
   "metadata": {},
   "outputs": [],
   "source": [
    "station_distences = get_datas()\n",
    "stations = []\n",
    "for item in station_distences:\n",
    "    if item[0] not in stations:\n",
    "        stations += [item[0]]\n",
    "    if item[1] not in stations:\n",
    "        stations += [item[1]]"
   ]
  },
  {
   "cell_type": "code",
   "execution_count": 90,
   "metadata": {},
   "outputs": [],
   "source": [
    "station_graph = nx.Graph()\n",
    "station_graph.add_nodes_from(stations)"
   ]
  },
  {
   "cell_type": "code",
   "execution_count": 122,
   "metadata": {},
   "outputs": [],
   "source": [
    "def build_connects():\n",
    "    stations_connection = defaultdict(list)\n",
    "    \n",
    "    station_distences = get_datas()\n",
    "    for item in station_distences:\n",
    "        stations_connection[item[0]].append(item[1])\n",
    "        stations_connection[item[1]].append(item[0])\n",
    "    return stations_connection"
   ]
  },
  {
   "cell_type": "code",
   "execution_count": 123,
   "metadata": {},
   "outputs": [],
   "source": [
    "stations_connection = build_connects()\n",
    "stations_connection_graph = nx.Graph(stations_connection)"
   ]
  },
  {
   "cell_type": "code",
   "execution_count": 124,
   "metadata": {},
   "outputs": [],
   "source": [
    "def search_1(graph, start, destination):\n",
    "    pathes = [[start]]\n",
    "    visited = set()\n",
    "    \n",
    "    while pathes:\n",
    "        path = pathes.pop(0)  #提取第一条路径\n",
    "        froniter = path[-1]   #提取即将要探索的节点\n",
    "        \n",
    "        if froniter in visited: continue  #检查如果该点已经探索过 则不用再探索\n",
    "            \n",
    "        successsors = graph[froniter]\n",
    "        \n",
    "        for city in successsors:      #遍历子节点\n",
    "            if city in path: continue  # check loop #检查会不会形成环\n",
    "            \n",
    "            new_path = path+[city]\n",
    "            \n",
    "            pathes.append(new_path)  #bfs     #将新路径加到list里面\n",
    "            #pathes = [new_path] + pathes #dfs\n",
    "            \n",
    "            if city == destination:  #检查目的地是不是已经搜索到了\n",
    "                return new_path\n",
    "        visited.add(froniter)\n",
    "    "
   ]
  },
  {
   "cell_type": "code",
   "execution_count": 125,
   "metadata": {},
   "outputs": [],
   "source": [
    "def search_2(graph,start,destination,search_strategy):\n",
    "    pathes = [[start]]\n",
    "    visited = set()# ！\n",
    "    while pathes:\n",
    "        path = pathes.pop(0)\n",
    "        froniter = path[-1]\n",
    "        if froniter in visited : continue# ！\n",
    "            \n",
    "        if froniter == destination:# ！\n",
    "            return path# ！\n",
    "        \n",
    "        successsors = graph[froniter]\n",
    "        \n",
    "        for city in successsors:\n",
    "            if city in path: continue  # check loop\n",
    "            \n",
    "            new_path = path+[city]\n",
    "            \n",
    "            pathes.append(new_path)  #bfs\n",
    "            \n",
    "        pathes = search_strategy(pathes)\n",
    "        visited.add(froniter) # ！\n",
    "       # if pathes and (destination == pathes[0][-1]):\n",
    "       #     return pathes[0]  \n",
    "        "
   ]
  },
  {
   "cell_type": "code",
   "execution_count": 133,
   "metadata": {},
   "outputs": [],
   "source": [
    "def get_station_distance(start, to):\n",
    "    station_distences = get_datas()\n",
    "    for item in station_distences:\n",
    "        if (item[0] == start and item[1] == to) or (item[1] == start and item[0] == to) :\n",
    "            return item[2]\n",
    "    return 10000\n",
    "    "
   ]
  },
  {
   "cell_type": "code",
   "execution_count": 134,
   "metadata": {},
   "outputs": [],
   "source": [
    "def sort_by_distance(pathes):\n",
    "    def get_distance_of_path(path):\n",
    "        distance = 0\n",
    "        for i,_ in enumerate(path[:-1]):\n",
    "            distance += get_station_distance(path[i],path[i+1])\n",
    "        return distance\n",
    "    return sorted(pathes,key=get_distance_of_path)"
   ]
  },
  {
   "cell_type": "code",
   "execution_count": 135,
   "metadata": {},
   "outputs": [],
   "source": [
    "def get_distance_of_path(path):\n",
    "    distance = 0\n",
    "    for i,_ in enumerate(path[:-1]):\n",
    "        distance += get_station_distance(path[i],path[i+1])\n",
    "    return distance"
   ]
  },
  {
   "cell_type": "code",
   "execution_count": 138,
   "metadata": {},
   "outputs": [
    {
     "data": {
      "text/plain": [
       "['六道口',\n",
       " '北沙滩',\n",
       " '奥林匹克公园',\n",
       " '奥体中心',\n",
       " '北土城',\n",
       " '安华桥',\n",
       " '安德里北街',\n",
       " '鼓楼大街',\n",
       " '什刹海',\n",
       " '南锣鼓巷',\n",
       " '东四',\n",
       " '朝阳门']"
      ]
     },
     "execution_count": 138,
     "metadata": {},
     "output_type": "execute_result"
    }
   ],
   "source": [
    "search_1(stations_connection_graph, '六道口', '朝阳门')\n"
   ]
  },
  {
   "cell_type": "code",
   "execution_count": 139,
   "metadata": {},
   "outputs": [
    {
     "data": {
      "text/plain": [
       "14704"
      ]
     },
     "execution_count": 139,
     "metadata": {},
     "output_type": "execute_result"
    }
   ],
   "source": [
    "get_distance_of_path(['六道口',\n",
    " '北沙滩',\n",
    " '奥林匹克公园',\n",
    " '奥体中心',\n",
    " '北土城',\n",
    " '安华桥',\n",
    " '安德里北街',\n",
    " '鼓楼大街',\n",
    " '什刹海',\n",
    " '南锣鼓巷',\n",
    " '东四',\n",
    " '朝阳门'])"
   ]
  },
  {
   "cell_type": "code",
   "execution_count": null,
   "metadata": {},
   "outputs": [],
   "source": []
  }
 ],
 "metadata": {
  "kernelspec": {
   "display_name": "Python 3",
   "language": "python",
   "name": "python3"
  },
  "language_info": {
   "codemirror_mode": {
    "name": "ipython",
    "version": 3
   },
   "file_extension": ".py",
   "mimetype": "text/x-python",
   "name": "python",
   "nbconvert_exporter": "python",
   "pygments_lexer": "ipython3",
   "version": "3.7.6"
  }
 },
 "nbformat": 4,
 "nbformat_minor": 4
}
